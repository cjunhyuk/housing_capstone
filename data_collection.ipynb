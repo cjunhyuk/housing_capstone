{
 "cells": [
  {
   "cell_type": "markdown",
   "id": "0937c5b3",
   "metadata": {},
   "source": [
    "# Data collection"
   ]
  },
  {
   "cell_type": "code",
   "execution_count": 1,
   "id": "32ee2167",
   "metadata": {},
   "outputs": [
    {
     "name": "stdout",
     "output_type": "stream",
     "text": [
      "200\n"
     ]
    }
   ],
   "source": [
    "import requests\n",
    "from bs4 import BeautifulSoup\n",
    "import json\n",
    "import time\n",
    "import csv\n",
    "\n",
    "class ZillowScraper():\n",
    "    results = []\n",
    "    headers = {\n",
    "        'accept': 'text/html,application/xhtml+xml,application/xml;q=0.9,image/webp,image/apng,*/*;q=0.8,application/signed-exchange;v=b3;q=0.9',\n",
    "        'accept-encoding': 'gzip, deflate, br',\n",
    "        'accept-language': 'en-US,en;q=0.9',\n",
    "        'cache-control': 'max-age=0',\n",
    "        'cookie': 'zguid=23|%24d14f0059-d03b-4422-9f57-5862fcd13490; _ga=GA1.2.1741285320.1590755697; zjs_user_id=null; zjs_anonymous_id=%22d14f0059-d03b-4422-9f57-5862fcd13490%22; __gads=ID=1050523ba93d593d:T=1590755700:S=ALNI_MZlJJ_xqSbd51oJisV_HY4g017Ehw; _gcl_au=1.1.2000298647.1590755705; KruxPixel=true; _fbp=fb.1.1590755705919.1815197270; _pxvid=d6c5ec75-a1a8-11ea-b8a9-0242ac120009; KruxAddition=true; JSESSIONID=3E7EBDB1F8931DF7D0DE9992546AE0B3; zgsession=1|200e23e0-9534-4d27-931f-caa3de6b483b; _gid=GA1.2.1328942480.1590858452; _gat=1; DoubleClickSession=true; GASession=true; _uetsid=fdde22d5-862a-8a7d-93e4-a16c574edf91; _pin_unauth=YzUyOGQ2OGMtMmQ3YS00NGZkLTg3MmEtOGJlODM1YWMwMTA1; _px3=026336d3721eec42bcdec3278ad2d3ac2014d5e65707b21624fb2e743d9a89be:mq3WRz2RNL5PBIvbYNHCxq5VfXHXy2YKC+8Lqn97pIw8MiKppH7Cx7AjKzbAFi1zcehKGY36aIgsnE9NiPKwlw==:1000:4U1o3ogIQ0KzfyMd2QYEFGDnD1augezy5bJlzEn9ZHE89B2uEIxDg8BmsGj8szPwyIz1Yv15S2V0TV5P+0jCFisfGk92XM4DM7K13GCtNr0HXhNGftVBFxVrCv8ApRphw/Qwj7AcagCh9i6FPiQGLFruxVASJXLsNpFeWimekVY=; AWSALB=ZKAGBcH2BwM6D1bRKOPynbOqyclySGz5U/fZB+wO3MYQ91UR9A5rFVtFsmjOkrMASUJguhtsJRZDM7IlBiWVT/pGw2S0BjxgEZmpFPrBZEqU2lWTE2NMArtecZD2; AWSALBCORS=ZKAGBcH2BwM6D1bRKOPynbOqyclySGz5U/fZB+wO3MYQ91UR9A5rFVtFsmjOkrMASUJguhtsJRZDM7IlBiWVT/pGw2S0BjxgEZmpFPrBZEqU2lWTE2NMArtecZD2; search=6|1593450465587%7Crect%3D40.843698984643765%252C-73.50417109960938%252C40.567821651427245%252C-74.45174190039063%26rid%3D6181%26disp%3Dmap%26mdm%3Dauto%26p%3D2%26z%3D0%26lt%3Dfsbo%26fs%3D1%26fr%3D0%26mmm%3D0%26rs%3D0%26ah%3D0%26singlestory%3D0%26housing-connector%3D0%26abo%3D0%26garage%3D0%26pool%3D0%26ac%3D0%26waterfront%3D0%26finished%3D0%26unfinished%3D0%26cityview%3D0%26mountainview%3D0%26parkview%3D0%26waterview%3D0%26hoadata%3D1%26zillow-owned%3D0%263dhome%3D0%09%096181%09%09%09%09%09%09',\n",
    "        'sec-fetch-dest': 'document',\n",
    "        'sec-fetch-mode': 'navigate',\n",
    "        'sec-fetch-site': 'same-origin',\n",
    "        'sec-fetch-user': '?1',\n",
    "        'upgrade-insecure-requests': '1',\n",
    "        'user-agent': 'Mozilla/5.0 (Macintosh; Intel Mac OS X 10_13_6) AppleWebKit/537.36 (KHTML, like Gecko) Chrome/83.0.4103.61 Safari/537.36'\n",
    "    }\n",
    "\n",
    "    def fetch(self, url, params):\n",
    "        response = requests.get(url, headers=self.headers, params=params)\n",
    "        print(response.status_code)\n",
    "        return response\n",
    "\n",
    "    def parse(self, response):\n",
    "        content = BeautifulSoup(response, 'lxml')\n",
    "        deck = content.find('ul', {'class': 'photo-cards photo-cards_wow photo-cards_short'})\n",
    "        for card in deck.contents:\n",
    "            try:\n",
    "                script = card.find('script', {'type': 'application/ld+json'})\n",
    "                if script:\n",
    "                    script_json = json.loads(script.contents[0])\n",
    "\n",
    "                    self.results.append({\n",
    "                        'latitude': script_json['geo']['latitude'],\n",
    "                        'longitude': script_json['geo']['longitude'],\n",
    "                        'floorSize': script_json['floorSize']['value'],\n",
    "                        'url': script_json['url'],\n",
    "                        'price': card.find('div', {'class': 'list-card-price'}).text\n",
    "                    })\n",
    "            except:\n",
    "                continue\n",
    "\n",
    "    def to_csv(self):\n",
    "        with open('zillow.csv', 'w') as csv_file:\n",
    "            writer = csv.DictWriter(csv_file, fieldnames=self.results[0].keys())\n",
    "            writer.writeheader()\n",
    "\n",
    "            for row in self.results:\n",
    "                writer.writerow(row)\n",
    "\n",
    "    def run(self):\n",
    "        url = 'https://www.zillow.com/homes/NJ_rb/'\n",
    "\n",
    "        for page in range(1, 2):\n",
    "            params = {\n",
    "                'searchQueryState': '{\"pagination\":{\"currentPage\": %s},\"mapBounds\":{\"west\":-74.40093013281245,\"east\":-73.55498286718745,\"south\":40.4487909557045,\"north\":40.96202658306895},\"regionSelection\":[{\"regionId\":6181,\"regionType\":6}],\"isMapVisible\":false,\"filterState\":{\"isForSaleByAgent\":{\"value\":false},\"isNewConstruction\":{\"value\":false},\"isForSaleForeclosure\":{\"value\":false},\"isComingSoon\":{\"value\":false},\"isAuction\":{\"value\":false}},\"isListVisible\":true}' %page\n",
    "            }\n",
    "            res = self.fetch(url, params)\n",
    "            self.parse(res.text)\n",
    "            time.sleep(10)\n",
    "        self.to_csv()\n",
    "\n",
    "\n",
    "if __name__ == '__main__':\n",
    "    scraper = ZillowScraper()\n",
    "    scraper.run()"
   ]
  },
  {
   "cell_type": "code",
   "execution_count": null,
   "id": "8bdf7b11",
   "metadata": {},
   "outputs": [],
   "source": []
  }
 ],
 "metadata": {
  "kernelspec": {
   "display_name": "Python 3 (ipykernel)",
   "language": "python",
   "name": "python3"
  },
  "language_info": {
   "codemirror_mode": {
    "name": "ipython",
    "version": 3
   },
   "file_extension": ".py",
   "mimetype": "text/x-python",
   "name": "python",
   "nbconvert_exporter": "python",
   "pygments_lexer": "ipython3",
   "version": "3.8.12"
  }
 },
 "nbformat": 4,
 "nbformat_minor": 5
}
